{
 "cells": [
  {
   "cell_type": "code",
   "execution_count": 1,
   "metadata": {},
   "outputs": [
    {
     "name": "stdout",
     "output_type": "stream",
     "text": [
      "WARNING:tensorflow:From <ipython-input-1-d03fc743e0e7>:4: read_data_sets (from tensorflow.contrib.learn.python.learn.datasets.mnist) is deprecated and will be removed in a future version.\n",
      "Instructions for updating:\n",
      "Please use alternatives such as official/mnist/dataset.py from tensorflow/models.\n",
      "WARNING:tensorflow:From C:\\Users\\Daniel Ogbuti\\Anaconda3\\lib\\site-packages\\tensorflow\\contrib\\learn\\python\\learn\\datasets\\mnist.py:260: maybe_download (from tensorflow.contrib.learn.python.learn.datasets.base) is deprecated and will be removed in a future version.\n",
      "Instructions for updating:\n",
      "Please write your own downloading logic.\n",
      "WARNING:tensorflow:From C:\\Users\\Daniel Ogbuti\\Anaconda3\\lib\\site-packages\\tensorflow\\contrib\\learn\\python\\learn\\datasets\\mnist.py:262: extract_images (from tensorflow.contrib.learn.python.learn.datasets.mnist) is deprecated and will be removed in a future version.\n",
      "Instructions for updating:\n",
      "Please use tf.data to implement this functionality.\n",
      "Extracting MNIST-data\\train-images-idx3-ubyte.gz\n",
      "WARNING:tensorflow:From C:\\Users\\Daniel Ogbuti\\Anaconda3\\lib\\site-packages\\tensorflow\\contrib\\learn\\python\\learn\\datasets\\mnist.py:267: extract_labels (from tensorflow.contrib.learn.python.learn.datasets.mnist) is deprecated and will be removed in a future version.\n",
      "Instructions for updating:\n",
      "Please use tf.data to implement this functionality.\n",
      "Extracting MNIST-data\\train-labels-idx1-ubyte.gz\n",
      "WARNING:tensorflow:From C:\\Users\\Daniel Ogbuti\\Anaconda3\\lib\\site-packages\\tensorflow\\contrib\\learn\\python\\learn\\datasets\\mnist.py:110: dense_to_one_hot (from tensorflow.contrib.learn.python.learn.datasets.mnist) is deprecated and will be removed in a future version.\n",
      "Instructions for updating:\n",
      "Please use tf.one_hot on tensors.\n",
      "Extracting MNIST-data\\t10k-images-idx3-ubyte.gz\n",
      "Extracting MNIST-data\\t10k-labels-idx1-ubyte.gz\n",
      "WARNING:tensorflow:From C:\\Users\\Daniel Ogbuti\\Anaconda3\\lib\\site-packages\\tensorflow\\contrib\\learn\\python\\learn\\datasets\\mnist.py:290: DataSet.__init__ (from tensorflow.contrib.learn.python.learn.datasets.mnist) is deprecated and will be removed in a future version.\n",
      "Instructions for updating:\n",
      "Please use alternatives such as official/mnist/dataset.py from tensorflow/models.\n"
     ]
    }
   ],
   "source": [
    "import tensorflow as tf\n",
    "import tensorflow.contrib.learn as learn\n",
    "\n",
    "dataset = learn.datasets.mnist.read_data_sets('MNIST-data',  one_hot=True)"
   ]
  },
  {
   "cell_type": "code",
   "execution_count": 17,
   "metadata": {},
   "outputs": [
    {
     "name": "stdout",
     "output_type": "stream",
     "text": [
      "[ 1 67 51 46 23 46 56 51 51 46]\n",
      "[ True  True  True  True  True  True  True  True  True  True  True  True\n",
      "  True  True  True  True  True  True  True  True  True  True  True  True\n",
      "  True  True  True  True  True  True  True  True  True  True  True  True\n",
      "  True  True  True  True  True  True  True  True  True  True  True  True\n",
      "  True  True  True  True  True  True  True  True  True  True  True  True\n",
      "  True  True  True  True  True  True  True  True  True  True  True  True\n",
      "  True  True  True  True  True  True False  True  True  True  True  True\n",
      "  True  True  True  True  True  True  True  True  True  True  True  True\n",
      "  True  True  True  True]\n"
     ]
    }
   ],
   "source": [
    "image_holder = tf.placeholder(tf.float32, [None, 784])\n",
    "label_holder= tf.placeholder(tf.float32, [None, 10])\n",
    "\n",
    "\n",
    "hid_nodes = 200\n",
    "out_nodes = 10\n",
    "\n",
    "w0 = tf.Variable(tf.random_normal([784, hid_nodes]))\n",
    "w1 = tf.Variable(tf.random_normal([hid_nodes, hid_nodes]))\n",
    "w2 = tf.Variable(tf.random_normal([hid_nodes, hid_nodes]))\n",
    "w3 = tf.Variable(tf.random_normal([hid_nodes, out_nodes]))\n",
    "\n",
    "# Define biases\n",
    "b0 = tf.Variable(tf.random_normal([hid_nodes])) \n",
    "b1 = tf.Variable(tf.random_normal([hid_nodes])) \n",
    "b2 = tf.Variable(tf.random_normal([hid_nodes]))\n",
    "b3 = tf.Variable(tf.random_normal([out_nodes]))\n",
    "\n",
    "layer_1 = tf.add(tf.matmul(image_holder, w0), b0) \n",
    "layer_1 = tf.nn.relu(layer_1)\n",
    "layer_2 = tf.add(tf.matmul(layer_1, w1), b1) \n",
    "layer_2 = tf.nn.relu(layer_2) \n",
    "layer_3 = tf.add(tf.matmul(layer_2, w2), b2) \n",
    "layer_3 = tf.nn.relu(layer_3)\n",
    "out_layer = tf.matmul(layer_3, w3) + b3\n",
    " \n",
    "loss = tf.reduce_mean(tf.nn.softmax_cross_entropy_with_logits(logits = out_layer, labels = label_holder))\n",
    "\n",
    "learning_rate = 0.01\n",
    "num_epochs = 15\n",
    "batch_size = 100\n",
    "num_batches = int(dataset.train.num_examples/batch_size)\n",
    "optimizer = tf.train.AdamOptimizer(learning_rate).minimize(loss)\n",
    "\n",
    "\n",
    "init = tf.global_variables_initializer()\n",
    "\n",
    "with tf.Session() as sess:\n",
    "    sess.run(init)\n",
    "    \n",
    "    for epoch in range(num_epochs):\n",
    "        for batch in range(num_batches):\n",
    "            \n",
    "            img_batch, lbl_batch = dataset.train.next_batch(batch_size)\n",
    "            sess.run(optimizer, feed_dict = {image_holder: img_batch, label_holder: lbl_batch})\n",
    "            \n",
    "    prediction = tf.equal(tf.argmax(out_layer,1), tf.argmax(label_holder, 1))\n",
    "    success = tf.reduce_mean(tf.cast(prediction, tf.float32)) \n",
    "    \n",
    "    print(sess.run(tf.argmax(out_layer,0),feed_dict = {image_holder: img_batch, label_holder: lbl_batch}))\n",
    "    print(sess.run(prediction, feed_dict = {image_holder: img_batch, label_holder: lbl_batch}))\n",
    " "
   ]
  },
  {
   "cell_type": "code",
   "execution_count": null,
   "metadata": {},
   "outputs": [],
   "source": []
  }
 ],
 "metadata": {
  "kernelspec": {
   "display_name": "Python 3",
   "language": "python",
   "name": "python3"
  },
  "language_info": {
   "codemirror_mode": {
    "name": "ipython",
    "version": 3
   },
   "file_extension": ".py",
   "mimetype": "text/x-python",
   "name": "python",
   "nbconvert_exporter": "python",
   "pygments_lexer": "ipython3",
   "version": "3.7.3"
  }
 },
 "nbformat": 4,
 "nbformat_minor": 2
}
